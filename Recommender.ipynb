{
  "cells": [
    {
      "cell_type": "markdown",
      "metadata": {
        "id": "view-in-github",
        "colab_type": "text"
      },
      "source": [
        "<a href=\"https://colab.research.google.com/github/cgsnider/Restaurant-Recs/blob/main/Recommender.ipynb\" target=\"_parent\"><img src=\"https://colab.research.google.com/assets/colab-badge.svg\" alt=\"Open In Colab\"/></a>"
      ]
    },
    {
      "cell_type": "markdown",
      "source": [
        "The recommender model.\n",
        "Designed to be run on Colab.\n",
        "\n",
        "Note: Requires access to your google drive and for the teams folder \"ML\" to be located in the root directory of your drive (cannot be inside another folder)\n"
      ],
      "metadata": {
        "id": "RwZIsYyJHhIq"
      }
    },
    {
      "cell_type": "code",
      "source": [
        "!pip install lightfm"
      ],
      "metadata": {
        "colab": {
          "base_uri": "https://localhost:8080/"
        },
        "id": "5HRlj2LgoJq3",
        "outputId": "8ed6a6be-307e-427a-b7af-1fb35b38d93a"
      },
      "execution_count": 1,
      "outputs": [
        {
          "output_type": "stream",
          "name": "stdout",
          "text": [
            "Collecting lightfm\n",
            "  Downloading lightfm-1.16.tar.gz (310 kB)\n",
            "\u001b[?25l\r\u001b[K     |█                               | 10 kB 25.6 MB/s eta 0:00:01\r\u001b[K     |██▏                             | 20 kB 26.0 MB/s eta 0:00:01\r\u001b[K     |███▏                            | 30 kB 28.6 MB/s eta 0:00:01\r\u001b[K     |████▎                           | 40 kB 17.0 MB/s eta 0:00:01\r\u001b[K     |█████▎                          | 51 kB 14.3 MB/s eta 0:00:01\r\u001b[K     |██████▍                         | 61 kB 16.4 MB/s eta 0:00:01\r\u001b[K     |███████▍                        | 71 kB 16.1 MB/s eta 0:00:01\r\u001b[K     |████████▌                       | 81 kB 12.4 MB/s eta 0:00:01\r\u001b[K     |█████████▌                      | 92 kB 13.5 MB/s eta 0:00:01\r\u001b[K     |██████████▋                     | 102 kB 14.6 MB/s eta 0:00:01\r\u001b[K     |███████████▋                    | 112 kB 14.6 MB/s eta 0:00:01\r\u001b[K     |████████████▊                   | 122 kB 14.6 MB/s eta 0:00:01\r\u001b[K     |█████████████▊                  | 133 kB 14.6 MB/s eta 0:00:01\r\u001b[K     |██████████████▉                 | 143 kB 14.6 MB/s eta 0:00:01\r\u001b[K     |███████████████▉                | 153 kB 14.6 MB/s eta 0:00:01\r\u001b[K     |█████████████████               | 163 kB 14.6 MB/s eta 0:00:01\r\u001b[K     |██████████████████              | 174 kB 14.6 MB/s eta 0:00:01\r\u001b[K     |███████████████████             | 184 kB 14.6 MB/s eta 0:00:01\r\u001b[K     |████████████████████            | 194 kB 14.6 MB/s eta 0:00:01\r\u001b[K     |█████████████████████▏          | 204 kB 14.6 MB/s eta 0:00:01\r\u001b[K     |██████████████████████▏         | 215 kB 14.6 MB/s eta 0:00:01\r\u001b[K     |███████████████████████▎        | 225 kB 14.6 MB/s eta 0:00:01\r\u001b[K     |████████████████████████▎       | 235 kB 14.6 MB/s eta 0:00:01\r\u001b[K     |█████████████████████████▍      | 245 kB 14.6 MB/s eta 0:00:01\r\u001b[K     |██████████████████████████▍     | 256 kB 14.6 MB/s eta 0:00:01\r\u001b[K     |███████████████████████████▌    | 266 kB 14.6 MB/s eta 0:00:01\r\u001b[K     |████████████████████████████▌   | 276 kB 14.6 MB/s eta 0:00:01\r\u001b[K     |█████████████████████████████▋  | 286 kB 14.6 MB/s eta 0:00:01\r\u001b[K     |██████████████████████████████▋ | 296 kB 14.6 MB/s eta 0:00:01\r\u001b[K     |███████████████████████████████▊| 307 kB 14.6 MB/s eta 0:00:01\r\u001b[K     |████████████████████████████████| 310 kB 14.6 MB/s \n",
            "\u001b[?25hRequirement already satisfied: numpy in /usr/local/lib/python3.7/dist-packages (from lightfm) (1.21.5)\n",
            "Requirement already satisfied: scipy>=0.17.0 in /usr/local/lib/python3.7/dist-packages (from lightfm) (1.4.1)\n",
            "Requirement already satisfied: requests in /usr/local/lib/python3.7/dist-packages (from lightfm) (2.23.0)\n",
            "Requirement already satisfied: scikit-learn in /usr/local/lib/python3.7/dist-packages (from lightfm) (1.0.2)\n",
            "Requirement already satisfied: chardet<4,>=3.0.2 in /usr/local/lib/python3.7/dist-packages (from requests->lightfm) (3.0.4)\n",
            "Requirement already satisfied: certifi>=2017.4.17 in /usr/local/lib/python3.7/dist-packages (from requests->lightfm) (2021.10.8)\n",
            "Requirement already satisfied: idna<3,>=2.5 in /usr/local/lib/python3.7/dist-packages (from requests->lightfm) (2.10)\n",
            "Requirement already satisfied: urllib3!=1.25.0,!=1.25.1,<1.26,>=1.21.1 in /usr/local/lib/python3.7/dist-packages (from requests->lightfm) (1.24.3)\n",
            "Requirement already satisfied: threadpoolctl>=2.0.0 in /usr/local/lib/python3.7/dist-packages (from scikit-learn->lightfm) (3.1.0)\n",
            "Requirement already satisfied: joblib>=0.11 in /usr/local/lib/python3.7/dist-packages (from scikit-learn->lightfm) (1.1.0)\n",
            "Building wheels for collected packages: lightfm\n",
            "  Building wheel for lightfm (setup.py) ... \u001b[?25l\u001b[?25hdone\n",
            "  Created wheel for lightfm: filename=lightfm-1.16-cp37-cp37m-linux_x86_64.whl size=705354 sha256=d4b007b535f55bef4853daf1b4548a85459c2cda67dc35c8e2dcdec1cf570ee7\n",
            "  Stored in directory: /root/.cache/pip/wheels/f8/56/28/5772a3bd3413d65f03aa452190b00898b680b10028a1021914\n",
            "Successfully built lightfm\n",
            "Installing collected packages: lightfm\n",
            "Successfully installed lightfm-1.16\n"
          ]
        }
      ]
    },
    {
      "cell_type": "code",
      "source": [
        "from google.colab import drive\n",
        "drive.mount('/content/drive')"
      ],
      "metadata": {
        "colab": {
          "base_uri": "https://localhost:8080/"
        },
        "id": "_dcifjn2odhM",
        "outputId": "6ca7658d-1f20-457f-d952-c9f909868f19"
      },
      "execution_count": 2,
      "outputs": [
        {
          "output_type": "stream",
          "name": "stdout",
          "text": [
            "Mounted at /content/drive\n"
          ]
        }
      ]
    },
    {
      "cell_type": "code",
      "execution_count": 3,
      "metadata": {
        "id": "6OnMCHifoC1e"
      },
      "outputs": [],
      "source": [
        "import pandas as pd\n",
        "from lightfm.data import Dataset"
      ]
    },
    {
      "cell_type": "code",
      "execution_count": 4,
      "metadata": {
        "id": "ezpg9wVioC1g"
      },
      "outputs": [],
      "source": [
        "reviews_df = pd.read_json('/content/drive/My Drive/ML/data/cleaned/yelp_academic_dataset_review.json')"
      ]
    },
    {
      "cell_type": "code",
      "execution_count": 5,
      "metadata": {
        "id": "kSRG_xEpoC1h"
      },
      "outputs": [],
      "source": [
        "#Builds the mapping for restaurant's id (business_id) and customer's id (user_id)\n",
        "dataset = Dataset()\n",
        "dataset.fit(reviews_df.user_id.unique(), reviews_df.business_id.unique())"
      ]
    },
    {
      "cell_type": "code",
      "execution_count": 6,
      "metadata": {
        "id": "yOadpKRMoC1h",
        "outputId": "b7273c4a-4f4d-4d6b-f574-dcb59baeaccb",
        "colab": {
          "base_uri": "https://localhost:8080/"
        }
      },
      "outputs": [
        {
          "output_type": "stream",
          "name": "stdout",
          "text": [
            "num_users: 1505676, num_items: 64616\n"
          ]
        }
      ],
      "source": [
        "num_users, num_items = dataset.interactions_shape()\n",
        "print(f'num_users: {num_users}, num_items: {num_items}')"
      ]
    },
    {
      "cell_type": "code",
      "execution_count": 7,
      "metadata": {
        "id": "t-_dboatoC1i"
      },
      "outputs": [],
      "source": [
        "#Runtime ~4min\n",
        "interactions, weights = dataset.build_interactions(((review.user_id, review.business_id) for i, review in reviews_df.iterrows()))"
      ]
    },
    {
      "cell_type": "code",
      "source": [
        ""
      ],
      "metadata": {
        "id": "tI7uGmMrpPuP"
      },
      "execution_count": 7,
      "outputs": []
    }
  ],
  "metadata": {
    "interpreter": {
      "hash": "11b9e945b2187ff22024973cdf4437fa997e52c054f8771dce7781205d739756"
    },
    "kernelspec": {
      "display_name": "Python 3.9.7 ('restaurant_recs')",
      "language": "python",
      "name": "python3"
    },
    "language_info": {
      "codemirror_mode": {
        "name": "ipython",
        "version": 3
      },
      "file_extension": ".py",
      "mimetype": "text/x-python",
      "name": "python",
      "nbconvert_exporter": "python",
      "pygments_lexer": "ipython3",
      "version": "3.9.7"
    },
    "orig_nbformat": 4,
    "colab": {
      "name": "Recommender.ipynb",
      "provenance": [],
      "collapsed_sections": [],
      "include_colab_link": true
    },
    "accelerator": "GPU"
  },
  "nbformat": 4,
  "nbformat_minor": 0
}
{
  "cells": [
    {
      "cell_type": "markdown",
      "metadata": {
        "colab_type": "text",
        "id": "view-in-github"
      },
      "source": [
        "<a href=\"https://colab.research.google.com/github/cgsnider/Restaurant-Recs/blob/main/Recommender.ipynb\" target=\"_parent\"><img src=\"https://colab.research.google.com/assets/colab-badge.svg\" alt=\"Open In Colab\"/></a>"
      ]
    },
    {
      "cell_type": "markdown",
      "metadata": {
        "id": "RwZIsYyJHhIq"
      },
      "source": [
        "The recommender model.\n",
        "Designed to be run on Colab.\n",
        "\n",
        "Note: Requires access to your google drive and for the teams folder \"ML\" to be located in the root directory of your drive (cannot be inside another folder)\n"
      ]
    },
    {
      "cell_type": "code",
      "execution_count": 2,
      "metadata": {
        "colab": {
          "base_uri": "https://localhost:8080/"
        },
        "id": "5HRlj2LgoJq3",
        "outputId": "8ed6a6be-307e-427a-b7af-1fb35b38d93a"
      },
      "outputs": [
        {
          "name": "stdout",
          "output_type": "stream",
          "text": [
            "Requirement already satisfied: lightfm in /Users/rajkumarnattamaisubramanian/opt/anaconda3/lib/python3.8/site-packages (1.16)\n",
            "Requirement already satisfied: numpy in /Users/rajkumarnattamaisubramanian/opt/anaconda3/lib/python3.8/site-packages (from lightfm) (1.21.2)\n",
            "Requirement already satisfied: requests in /Users/rajkumarnattamaisubramanian/opt/anaconda3/lib/python3.8/site-packages (from lightfm) (2.27.1)\n",
            "Requirement already satisfied: scikit-learn in /Users/rajkumarnattamaisubramanian/opt/anaconda3/lib/python3.8/site-packages (from lightfm) (1.0.2)\n",
            "Requirement already satisfied: scipy>=0.17.0 in /Users/rajkumarnattamaisubramanian/opt/anaconda3/lib/python3.8/site-packages (from lightfm) (1.7.3)\n",
            "Requirement already satisfied: idna<4,>=2.5 in /Users/rajkumarnattamaisubramanian/opt/anaconda3/lib/python3.8/site-packages (from requests->lightfm) (3.3)\n",
            "Requirement already satisfied: urllib3<1.27,>=1.21.1 in /Users/rajkumarnattamaisubramanian/opt/anaconda3/lib/python3.8/site-packages (from requests->lightfm) (1.26.7)\n",
            "Requirement already satisfied: charset-normalizer~=2.0.0 in /Users/rajkumarnattamaisubramanian/opt/anaconda3/lib/python3.8/site-packages (from requests->lightfm) (2.0.4)\n",
            "Requirement already satisfied: certifi>=2017.4.17 in /Users/rajkumarnattamaisubramanian/opt/anaconda3/lib/python3.8/site-packages (from requests->lightfm) (2021.10.8)\n",
            "Requirement already satisfied: threadpoolctl>=2.0.0 in /Users/rajkumarnattamaisubramanian/opt/anaconda3/lib/python3.8/site-packages (from scikit-learn->lightfm) (2.2.0)\n",
            "Requirement already satisfied: joblib>=0.11 in /Users/rajkumarnattamaisubramanian/opt/anaconda3/lib/python3.8/site-packages (from scikit-learn->lightfm) (1.1.0)\n"
          ]
        }
      ],
      "source": [
        "!pip install lightfm"
      ]
    },
    {
      "cell_type": "code",
      "execution_count": 2,
      "metadata": {
        "colab": {
          "base_uri": "https://localhost:8080/"
        },
        "id": "_dcifjn2odhM",
        "outputId": "6ca7658d-1f20-457f-d952-c9f909868f19"
      },
      "outputs": [
        {
          "name": "stdout",
          "output_type": "stream",
          "text": [
            "Mounted at /content/drive\n"
          ]
        }
      ],
      "source": [
        "from google.colab import drive\n",
        "drive.mount('/content/drive')"
      ]
    },
    {
      "cell_type": "code",
      "execution_count": 3,
      "metadata": {
        "id": "6OnMCHifoC1e"
      },
      "outputs": [
        {
          "name": "stderr",
          "output_type": "stream",
          "text": [
            "/Users/rajkumarnattamaisubramanian/opt/anaconda3/lib/python3.8/site-packages/lightfm/_lightfm_fast.py:9: UserWarning: LightFM was compiled without OpenMP support. Only a single thread will be used.\n",
            "  warnings.warn(\n"
          ]
        }
      ],
      "source": [
        "import pandas as pd\n",
        "from lightfm.data import Dataset"
      ]
    },
    {
      "cell_type": "code",
      "execution_count": 4,
      "metadata": {
        "id": "ezpg9wVioC1g"
      },
      "outputs": [],
      "source": [
        "reviews_df = pd.read_json('/Users/rajkumarnattamaisubramanian/Downloads/data/cleaned/yelp_academic_dataset_review.json')"
      ]
    },
    {
      "cell_type": "code",
      "execution_count": 6,
      "metadata": {},
      "outputs": [
        {
          "data": {
            "text/plain": [
              "0          XQfwVwDr-v0ZS3_CbbE5Xw\n",
              "2          YjUWPpI6HXG530lwP-fb2A\n",
              "3          kxX2SOes4o-D3ZQBkiMRfA\n",
              "9          gebiRewfieSdtt17PTW6Zg\n",
              "11         EQ-TZ2eeD_E0BHuvoaeG5Q\n",
              "                    ...          \n",
              "6990270    1_BVWDzi5cVqWxNe9bOMMQ\n",
              "6990272    e_E-jq9mwm7wk75k7Yi-Xw\n",
              "6990274    X4mouE_cMiwbfyCPZ_K-FA\n",
              "6990278    Rr9kKArrMhSLVE9a53q-aA\n",
              "6990279    VAeEXLbEcI9Emt9KGYq9aA\n",
              "Name: business_id, Length: 4104995, dtype: object"
            ]
          },
          "execution_count": 6,
          "metadata": {},
          "output_type": "execute_result"
        }
      ],
      "source": [
        "reviews_df['business_id']"
      ]
    },
    {
      "cell_type": "code",
      "execution_count": 7,
      "metadata": {
        "id": "kSRG_xEpoC1h"
      },
      "outputs": [],
      "source": [
        "#Builds the mapping for restaurant's id (business_id) and customer's id (user_id)\n",
        "dataset = Dataset()\n",
        "dataset.fit(reviews_df.user_id.unique(), reviews_df.business_id.unique())"
      ]
    },
    {
      "cell_type": "code",
      "execution_count": 8,
      "metadata": {
        "colab": {
          "base_uri": "https://localhost:8080/"
        },
        "id": "yOadpKRMoC1h",
        "outputId": "b7273c4a-4f4d-4d6b-f574-dcb59baeaccb"
      },
      "outputs": [
        {
          "name": "stdout",
          "output_type": "stream",
          "text": [
            "num_users: 1333169, num_items: 44582\n"
          ]
        }
      ],
      "source": [
        "num_users, num_items = dataset.interactions_shape()\n",
        "print(f'num_users: {num_users}, num_items: {num_items}')"
      ]
    },
    {
      "cell_type": "code",
      "execution_count": 9,
      "metadata": {
        "id": "t-_dboatoC1i"
      },
      "outputs": [],
      "source": [
        "#Runtime ~4min\n",
        "interactions, weights = dataset.build_interactions(((review.user_id, review.business_id) for i, review in reviews_df.iterrows()))"
      ]
    },
    {
      "cell_type": "code",
      "execution_count": 10,
      "metadata": {
        "id": "tI7uGmMrpPuP"
      },
      "outputs": [],
      "source": [
        "reducedDataset = pd.read_json('/Users/rajkumarnattamaisubramanian/Downloads/data/cleaned/yelp_academic_dataset_restaurant_reduced.json')"
      ]
    },
    {
      "cell_type": "code",
      "execution_count": 11,
      "metadata": {},
      "outputs": [
        {
          "data": {
            "text/html": [
              "<div>\n",
              "<style scoped>\n",
              "    .dataframe tbody tr th:only-of-type {\n",
              "        vertical-align: middle;\n",
              "    }\n",
              "\n",
              "    .dataframe tbody tr th {\n",
              "        vertical-align: top;\n",
              "    }\n",
              "\n",
              "    .dataframe thead th {\n",
              "        text-align: right;\n",
              "    }\n",
              "</style>\n",
              "<table border=\"1\" class=\"dataframe\">\n",
              "  <thead>\n",
              "    <tr style=\"text-align: right;\">\n",
              "      <th></th>\n",
              "      <th>buisness_id</th>\n",
              "      <th>stars</th>\n",
              "      <th>review_count</th>\n",
              "      <th>postal_code</th>\n",
              "      <th>street</th>\n",
              "      <th>businessacceptscreditcards</th>\n",
              "      <th>restaurantsdelivery</th>\n",
              "      <th>restaurantspricerange2</th>\n",
              "      <th>bikeparking</th>\n",
              "      <th>outdoorseating</th>\n",
              "      <th>...</th>\n",
              "      <th>intimate</th>\n",
              "      <th>hipster</th>\n",
              "      <th>classy</th>\n",
              "      <th>trendy</th>\n",
              "      <th>casual</th>\n",
              "      <th>restaurantsgoodforgroups</th>\n",
              "      <th>alcohol</th>\n",
              "      <th>restaurantsattire</th>\n",
              "      <th>noiselevel</th>\n",
              "      <th>RestaurantsAttire</th>\n",
              "    </tr>\n",
              "  </thead>\n",
              "  <tbody>\n",
              "    <tr>\n",
              "      <th>0</th>\n",
              "      <td>MTSW4McQd7CbVtyjqoe9mw</td>\n",
              "      <td>4.0</td>\n",
              "      <td>80</td>\n",
              "      <td>19107</td>\n",
              "      <td>True</td>\n",
              "      <td>False</td>\n",
              "      <td>False</td>\n",
              "      <td>1</td>\n",
              "      <td>True</td>\n",
              "      <td>False</td>\n",
              "      <td>...</td>\n",
              "      <td>False</td>\n",
              "      <td>False</td>\n",
              "      <td>False</td>\n",
              "      <td>False</td>\n",
              "      <td>True</td>\n",
              "      <td>True</td>\n",
              "      <td>free</td>\n",
              "      <td>none</td>\n",
              "      <td>average</td>\n",
              "      <td>none</td>\n",
              "    </tr>\n",
              "    <tr>\n",
              "      <th>1</th>\n",
              "      <td>mWMc6_wTdE0EUBKIGXDVfA</td>\n",
              "      <td>4.5</td>\n",
              "      <td>13</td>\n",
              "      <td>18054</td>\n",
              "      <td>False</td>\n",
              "      <td>True</td>\n",
              "      <td>True</td>\n",
              "      <td>2</td>\n",
              "      <td>True</td>\n",
              "      <td>False</td>\n",
              "      <td>...</td>\n",
              "      <td>False</td>\n",
              "      <td>False</td>\n",
              "      <td>False</td>\n",
              "      <td>False</td>\n",
              "      <td>True</td>\n",
              "      <td>True</td>\n",
              "      <td>no</td>\n",
              "      <td>none</td>\n",
              "      <td>average</td>\n",
              "      <td>none</td>\n",
              "    </tr>\n",
              "    <tr>\n",
              "      <th>2</th>\n",
              "      <td>CF33F8-E6oudUQ46HnavjQ</td>\n",
              "      <td>2.0</td>\n",
              "      <td>6</td>\n",
              "      <td>37015</td>\n",
              "      <td>False</td>\n",
              "      <td>True</td>\n",
              "      <td>True</td>\n",
              "      <td>1</td>\n",
              "      <td>False</td>\n",
              "      <td>True</td>\n",
              "      <td>...</td>\n",
              "      <td>False</td>\n",
              "      <td>False</td>\n",
              "      <td>False</td>\n",
              "      <td>False</td>\n",
              "      <td>True</td>\n",
              "      <td>True</td>\n",
              "      <td>no</td>\n",
              "      <td>casual</td>\n",
              "      <td>average</td>\n",
              "      <td>casual</td>\n",
              "    </tr>\n",
              "    <tr>\n",
              "      <th>3</th>\n",
              "      <td>bBDDEgkFA1Otx9Lfe7BZUQ</td>\n",
              "      <td>1.5</td>\n",
              "      <td>10</td>\n",
              "      <td>37207</td>\n",
              "      <td>False</td>\n",
              "      <td>True</td>\n",
              "      <td>True</td>\n",
              "      <td>1</td>\n",
              "      <td>False</td>\n",
              "      <td>True</td>\n",
              "      <td>...</td>\n",
              "      <td>False</td>\n",
              "      <td>False</td>\n",
              "      <td>False</td>\n",
              "      <td>False</td>\n",
              "      <td>True</td>\n",
              "      <td>False</td>\n",
              "      <td>no</td>\n",
              "      <td>casual</td>\n",
              "      <td>average</td>\n",
              "      <td>casual</td>\n",
              "    </tr>\n",
              "    <tr>\n",
              "      <th>4</th>\n",
              "      <td>eEOYSgkmpB90uNA7lDOMRA</td>\n",
              "      <td>4.0</td>\n",
              "      <td>10</td>\n",
              "      <td>33602</td>\n",
              "      <td>False</td>\n",
              "      <td>True</td>\n",
              "      <td>True</td>\n",
              "      <td>2</td>\n",
              "      <td>False</td>\n",
              "      <td>False</td>\n",
              "      <td>...</td>\n",
              "      <td>False</td>\n",
              "      <td>False</td>\n",
              "      <td>False</td>\n",
              "      <td>False</td>\n",
              "      <td>False</td>\n",
              "      <td>True</td>\n",
              "      <td>no</td>\n",
              "      <td>none</td>\n",
              "      <td>average</td>\n",
              "      <td>none</td>\n",
              "    </tr>\n",
              "    <tr>\n",
              "      <th>...</th>\n",
              "      <td>...</td>\n",
              "      <td>...</td>\n",
              "      <td>...</td>\n",
              "      <td>...</td>\n",
              "      <td>...</td>\n",
              "      <td>...</td>\n",
              "      <td>...</td>\n",
              "      <td>...</td>\n",
              "      <td>...</td>\n",
              "      <td>...</td>\n",
              "      <td>...</td>\n",
              "      <td>...</td>\n",
              "      <td>...</td>\n",
              "      <td>...</td>\n",
              "      <td>...</td>\n",
              "      <td>...</td>\n",
              "      <td>...</td>\n",
              "      <td>...</td>\n",
              "      <td>...</td>\n",
              "      <td>...</td>\n",
              "      <td>...</td>\n",
              "    </tr>\n",
              "    <tr>\n",
              "      <th>44577</th>\n",
              "      <td>l9eLGG9ZKpLJzboZq-9LRQ</td>\n",
              "      <td>3.0</td>\n",
              "      <td>11</td>\n",
              "      <td>19018</td>\n",
              "      <td>False</td>\n",
              "      <td>True</td>\n",
              "      <td>True</td>\n",
              "      <td>1</td>\n",
              "      <td>True</td>\n",
              "      <td>False</td>\n",
              "      <td>...</td>\n",
              "      <td>False</td>\n",
              "      <td>False</td>\n",
              "      <td>False</td>\n",
              "      <td>False</td>\n",
              "      <td>True</td>\n",
              "      <td>True</td>\n",
              "      <td>no</td>\n",
              "      <td>none</td>\n",
              "      <td>average</td>\n",
              "      <td>none</td>\n",
              "    </tr>\n",
              "    <tr>\n",
              "      <th>44578</th>\n",
              "      <td>cM6V90ExQD6KMSU3rRB5ZA</td>\n",
              "      <td>4.0</td>\n",
              "      <td>33</td>\n",
              "      <td>83704</td>\n",
              "      <td>False</td>\n",
              "      <td>True</td>\n",
              "      <td>False</td>\n",
              "      <td>1</td>\n",
              "      <td>True</td>\n",
              "      <td>True</td>\n",
              "      <td>...</td>\n",
              "      <td>False</td>\n",
              "      <td>False</td>\n",
              "      <td>False</td>\n",
              "      <td>False</td>\n",
              "      <td>True</td>\n",
              "      <td>True</td>\n",
              "      <td>free</td>\n",
              "      <td>casual</td>\n",
              "      <td>loud</td>\n",
              "      <td>casual</td>\n",
              "    </tr>\n",
              "    <tr>\n",
              "      <th>44579</th>\n",
              "      <td>1jx1sfgjgVg0nM6n3p0xWA</td>\n",
              "      <td>4.5</td>\n",
              "      <td>41</td>\n",
              "      <td>85737</td>\n",
              "      <td>False</td>\n",
              "      <td>True</td>\n",
              "      <td>False</td>\n",
              "      <td>2</td>\n",
              "      <td>True</td>\n",
              "      <td>True</td>\n",
              "      <td>...</td>\n",
              "      <td>False</td>\n",
              "      <td>False</td>\n",
              "      <td>False</td>\n",
              "      <td>False</td>\n",
              "      <td>True</td>\n",
              "      <td>True</td>\n",
              "      <td>free</td>\n",
              "      <td>none</td>\n",
              "      <td>average</td>\n",
              "      <td>none</td>\n",
              "    </tr>\n",
              "    <tr>\n",
              "      <th>44580</th>\n",
              "      <td>WnT9NIzQgLlILjPT0kEcsQ</td>\n",
              "      <td>4.5</td>\n",
              "      <td>35</td>\n",
              "      <td>19147</td>\n",
              "      <td>True</td>\n",
              "      <td>True</td>\n",
              "      <td>True</td>\n",
              "      <td>2</td>\n",
              "      <td>True</td>\n",
              "      <td>False</td>\n",
              "      <td>...</td>\n",
              "      <td>False</td>\n",
              "      <td>False</td>\n",
              "      <td>False</td>\n",
              "      <td>False</td>\n",
              "      <td>True</td>\n",
              "      <td>True</td>\n",
              "      <td>free</td>\n",
              "      <td>casual</td>\n",
              "      <td>average</td>\n",
              "      <td>casual</td>\n",
              "    </tr>\n",
              "    <tr>\n",
              "      <th>44581</th>\n",
              "      <td>2O2K6SXPWv56amqxCECd4w</td>\n",
              "      <td>4.5</td>\n",
              "      <td>14</td>\n",
              "      <td>19014</td>\n",
              "      <td>True</td>\n",
              "      <td>True</td>\n",
              "      <td>False</td>\n",
              "      <td>1</td>\n",
              "      <td>True</td>\n",
              "      <td>False</td>\n",
              "      <td>...</td>\n",
              "      <td>False</td>\n",
              "      <td>False</td>\n",
              "      <td>False</td>\n",
              "      <td>False</td>\n",
              "      <td>True</td>\n",
              "      <td>True</td>\n",
              "      <td>no</td>\n",
              "      <td>none</td>\n",
              "      <td>average</td>\n",
              "      <td>none</td>\n",
              "    </tr>\n",
              "  </tbody>\n",
              "</table>\n",
              "<p>44582 rows × 24 columns</p>\n",
              "</div>"
            ],
            "text/plain": [
              "                  buisness_id  stars  review_count postal_code  street  \\\n",
              "0      MTSW4McQd7CbVtyjqoe9mw    4.0            80       19107    True   \n",
              "1      mWMc6_wTdE0EUBKIGXDVfA    4.5            13       18054   False   \n",
              "2      CF33F8-E6oudUQ46HnavjQ    2.0             6       37015   False   \n",
              "3      bBDDEgkFA1Otx9Lfe7BZUQ    1.5            10       37207   False   \n",
              "4      eEOYSgkmpB90uNA7lDOMRA    4.0            10       33602   False   \n",
              "...                       ...    ...           ...         ...     ...   \n",
              "44577  l9eLGG9ZKpLJzboZq-9LRQ    3.0            11       19018   False   \n",
              "44578  cM6V90ExQD6KMSU3rRB5ZA    4.0            33       83704   False   \n",
              "44579  1jx1sfgjgVg0nM6n3p0xWA    4.5            41       85737   False   \n",
              "44580  WnT9NIzQgLlILjPT0kEcsQ    4.5            35       19147    True   \n",
              "44581  2O2K6SXPWv56amqxCECd4w    4.5            14       19014    True   \n",
              "\n",
              "       businessacceptscreditcards  restaurantsdelivery restaurantspricerange2  \\\n",
              "0                           False                False                      1   \n",
              "1                            True                 True                      2   \n",
              "2                            True                 True                      1   \n",
              "3                            True                 True                      1   \n",
              "4                            True                 True                      2   \n",
              "...                           ...                  ...                    ...   \n",
              "44577                        True                 True                      1   \n",
              "44578                        True                False                      1   \n",
              "44579                        True                False                      2   \n",
              "44580                        True                 True                      2   \n",
              "44581                        True                False                      1   \n",
              "\n",
              "       bikeparking  outdoorseating  ... intimate  hipster  classy  trendy  \\\n",
              "0             True           False  ...    False    False   False   False   \n",
              "1             True           False  ...    False    False   False   False   \n",
              "2            False            True  ...    False    False   False   False   \n",
              "3            False            True  ...    False    False   False   False   \n",
              "4            False           False  ...    False    False   False   False   \n",
              "...            ...             ...  ...      ...      ...     ...     ...   \n",
              "44577         True           False  ...    False    False   False   False   \n",
              "44578         True            True  ...    False    False   False   False   \n",
              "44579         True            True  ...    False    False   False   False   \n",
              "44580         True           False  ...    False    False   False   False   \n",
              "44581         True           False  ...    False    False   False   False   \n",
              "\n",
              "       casual  restaurantsgoodforgroups  alcohol  restaurantsattire  \\\n",
              "0        True                      True     free               none   \n",
              "1        True                      True       no               none   \n",
              "2        True                      True       no             casual   \n",
              "3        True                     False       no             casual   \n",
              "4       False                      True       no               none   \n",
              "...       ...                       ...      ...                ...   \n",
              "44577    True                      True       no               none   \n",
              "44578    True                      True     free             casual   \n",
              "44579    True                      True     free               none   \n",
              "44580    True                      True     free             casual   \n",
              "44581    True                      True       no               none   \n",
              "\n",
              "       noiselevel  RestaurantsAttire  \n",
              "0         average               none  \n",
              "1         average               none  \n",
              "2         average             casual  \n",
              "3         average             casual  \n",
              "4         average               none  \n",
              "...           ...                ...  \n",
              "44577     average               none  \n",
              "44578        loud             casual  \n",
              "44579     average               none  \n",
              "44580     average             casual  \n",
              "44581     average               none  \n",
              "\n",
              "[44582 rows x 24 columns]"
            ]
          },
          "execution_count": 11,
          "metadata": {},
          "output_type": "execute_result"
        }
      ],
      "source": [
        "reducedDataset"
      ]
    },
    {
      "cell_type": "code",
      "execution_count": 37,
      "metadata": {},
      "outputs": [],
      "source": [
        "features = list(reducedDataset.columns)\n",
        "features = features[1::]\n",
        "features\n",
        "reducedDataset1 = reducedDataset[features]\n",
        "reducedDataset1List = [tuple(x) for x in reducedDataset1.values]\n",
        "reducedTuple = tuple(zip(reducedDataset['buisness_id'],reducedDataset1List))"
      ]
    },
    {
      "cell_type": "code",
      "execution_count": 41,
      "metadata": {},
      "outputs": [
        {
          "data": {
            "text/plain": [
              "('MTSW4McQd7CbVtyjqoe9mw',\n",
              " (4.0,\n",
              "  80,\n",
              "  '19107',\n",
              "  True,\n",
              "  False,\n",
              "  False,\n",
              "  '1',\n",
              "  True,\n",
              "  False,\n",
              "  'free',\n",
              "  True,\n",
              "  False,\n",
              "  True,\n",
              "  False,\n",
              "  False,\n",
              "  False,\n",
              "  False,\n",
              "  True,\n",
              "  True,\n",
              "  'free',\n",
              "  'none',\n",
              "  'average',\n",
              "  'none'))"
            ]
          },
          "execution_count": 41,
          "metadata": {},
          "output_type": "execute_result"
        }
      ],
      "source": [
        "reducedTuple[0]"
      ]
    },
    {
      "cell_type": "code",
      "execution_count": 38,
      "metadata": {},
      "outputs": [],
      "source": [
        "dataset.fit(reviews_df.user_id.unique(), reducedDataset.buisness_id.unique(),item_features=reducedTuple)"
      ]
    },
    {
      "cell_type": "code",
      "execution_count": 39,
      "metadata": {},
      "outputs": [
        {
          "ename": "ValueError",
          "evalue": "Feature 4.0 not in feature mapping. Call fit first.",
          "output_type": "error",
          "traceback": [
            "\u001b[0;31m---------------------------------------------------------------------------\u001b[0m",
            "\u001b[0;31mValueError\u001b[0m                                Traceback (most recent call last)",
            "\u001b[0;32m/var/folders/vf/_mgwkb11343bg_tp913mthqc0000gn/T/ipykernel_5222/1440802803.py\u001b[0m in \u001b[0;36m<module>\u001b[0;34m\u001b[0m\n\u001b[0;32m----> 1\u001b[0;31m \u001b[0mitem_features\u001b[0m \u001b[0;34m=\u001b[0m \u001b[0mdataset\u001b[0m\u001b[0;34m.\u001b[0m\u001b[0mbuild_item_features\u001b[0m\u001b[0;34m(\u001b[0m\u001b[0mreducedTuple\u001b[0m\u001b[0;34m)\u001b[0m\u001b[0;34m\u001b[0m\u001b[0;34m\u001b[0m\u001b[0m\n\u001b[0m",
            "\u001b[0;32m~/opt/anaconda3/lib/python3.8/site-packages/lightfm/data.py\u001b[0m in \u001b[0;36mbuild_item_features\u001b[0;34m(self, data, normalize)\u001b[0m\n\u001b[1;32m    416\u001b[0m         )\n\u001b[1;32m    417\u001b[0m \u001b[0;34m\u001b[0m\u001b[0m\n\u001b[0;32m--> 418\u001b[0;31m         \u001b[0;32mreturn\u001b[0m \u001b[0mbuilder\u001b[0m\u001b[0;34m.\u001b[0m\u001b[0mbuild\u001b[0m\u001b[0;34m(\u001b[0m\u001b[0mdata\u001b[0m\u001b[0;34m)\u001b[0m\u001b[0;34m\u001b[0m\u001b[0;34m\u001b[0m\u001b[0m\n\u001b[0m\u001b[1;32m    419\u001b[0m \u001b[0;34m\u001b[0m\u001b[0m\n\u001b[1;32m    420\u001b[0m     \u001b[0;32mdef\u001b[0m \u001b[0mmodel_dimensions\u001b[0m\u001b[0;34m(\u001b[0m\u001b[0mself\u001b[0m\u001b[0;34m)\u001b[0m\u001b[0;34m:\u001b[0m\u001b[0;34m\u001b[0m\u001b[0;34m\u001b[0m\u001b[0m\n",
            "\u001b[0;32m~/opt/anaconda3/lib/python3.8/site-packages/lightfm/data.py\u001b[0m in \u001b[0;36mbuild\u001b[0;34m(self, data)\u001b[0m\n\u001b[1;32m    117\u001b[0m \u001b[0;34m\u001b[0m\u001b[0m\n\u001b[1;32m    118\u001b[0m         \u001b[0;32mfor\u001b[0m \u001b[0mdatum\u001b[0m \u001b[0;32min\u001b[0m \u001b[0mdata\u001b[0m\u001b[0;34m:\u001b[0m\u001b[0;34m\u001b[0m\u001b[0;34m\u001b[0m\u001b[0m\n\u001b[0;32m--> 119\u001b[0;31m             \u001b[0;32mfor\u001b[0m \u001b[0;34m(\u001b[0m\u001b[0mentity_idx\u001b[0m\u001b[0;34m,\u001b[0m \u001b[0mfeature_idx\u001b[0m\u001b[0;34m,\u001b[0m \u001b[0mweight\u001b[0m\u001b[0;34m)\u001b[0m \u001b[0;32min\u001b[0m \u001b[0mself\u001b[0m\u001b[0;34m.\u001b[0m\u001b[0m_process_features\u001b[0m\u001b[0;34m(\u001b[0m\u001b[0mdatum\u001b[0m\u001b[0;34m)\u001b[0m\u001b[0;34m:\u001b[0m\u001b[0;34m\u001b[0m\u001b[0;34m\u001b[0m\u001b[0m\n\u001b[0m\u001b[1;32m    120\u001b[0m                 \u001b[0mfeatures\u001b[0m\u001b[0;34m.\u001b[0m\u001b[0mappend\u001b[0m\u001b[0;34m(\u001b[0m\u001b[0mentity_idx\u001b[0m\u001b[0;34m,\u001b[0m \u001b[0mfeature_idx\u001b[0m\u001b[0;34m,\u001b[0m \u001b[0mweight\u001b[0m\u001b[0;34m)\u001b[0m\u001b[0;34m\u001b[0m\u001b[0;34m\u001b[0m\u001b[0m\n\u001b[1;32m    121\u001b[0m \u001b[0;34m\u001b[0m\u001b[0m\n",
            "\u001b[0;32m~/opt/anaconda3/lib/python3.8/site-packages/lightfm/data.py\u001b[0m in \u001b[0;36m_process_features\u001b[0;34m(self, datum)\u001b[0m\n\u001b[1;32m     99\u001b[0m         \u001b[0;32mfor\u001b[0m \u001b[0;34m(\u001b[0m\u001b[0mfeature\u001b[0m\u001b[0;34m,\u001b[0m \u001b[0mweight\u001b[0m\u001b[0;34m)\u001b[0m \u001b[0;32min\u001b[0m \u001b[0mself\u001b[0m\u001b[0;34m.\u001b[0m\u001b[0m_iter_features\u001b[0m\u001b[0;34m(\u001b[0m\u001b[0mfeatures\u001b[0m\u001b[0;34m)\u001b[0m\u001b[0;34m:\u001b[0m\u001b[0;34m\u001b[0m\u001b[0;34m\u001b[0m\u001b[0m\n\u001b[1;32m    100\u001b[0m             \u001b[0;32mif\u001b[0m \u001b[0mfeature\u001b[0m \u001b[0;32mnot\u001b[0m \u001b[0;32min\u001b[0m \u001b[0mself\u001b[0m\u001b[0;34m.\u001b[0m\u001b[0m_feature_mapping\u001b[0m\u001b[0;34m:\u001b[0m\u001b[0;34m\u001b[0m\u001b[0;34m\u001b[0m\u001b[0m\n\u001b[0;32m--> 101\u001b[0;31m                 raise ValueError(\n\u001b[0m\u001b[1;32m    102\u001b[0m                     \u001b[0;34m\"Feature {} not in feature mapping. \"\u001b[0m\u001b[0;34m\u001b[0m\u001b[0;34m\u001b[0m\u001b[0m\n\u001b[1;32m    103\u001b[0m                     \u001b[0;34m\"Call fit first.\"\u001b[0m\u001b[0;34m.\u001b[0m\u001b[0mformat\u001b[0m\u001b[0;34m(\u001b[0m\u001b[0mfeature\u001b[0m\u001b[0;34m)\u001b[0m\u001b[0;34m\u001b[0m\u001b[0;34m\u001b[0m\u001b[0m\n",
            "\u001b[0;31mValueError\u001b[0m: Feature 4.0 not in feature mapping. Call fit first."
          ]
        }
      ],
      "source": [
        "item_features = dataset.build_item_features(reducedTuple)"
      ]
    }
  ],
  "metadata": {
    "accelerator": "GPU",
    "colab": {
      "collapsed_sections": [],
      "include_colab_link": true,
      "name": "Recommender.ipynb",
      "provenance": []
    },
    "interpreter": {
      "hash": "11b9e945b2187ff22024973cdf4437fa997e52c054f8771dce7781205d739756"
    },
    "kernelspec": {
      "display_name": "Python 3.9.7 ('restaurant_recs')",
      "language": "python",
      "name": "python3"
    },
    "language_info": {
      "codemirror_mode": {
        "name": "ipython",
        "version": 3
      },
      "file_extension": ".py",
      "mimetype": "text/x-python",
      "name": "python",
      "nbconvert_exporter": "python",
      "pygments_lexer": "ipython3",
      "version": "3.9.7"
    },
    "orig_nbformat": 4
  },
  "nbformat": 4,
  "nbformat_minor": 0
}

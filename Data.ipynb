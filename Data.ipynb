{
  "cells": [
    {
      "cell_type": "code",
      "source": [
        "! pip install kaggle\n",
        "! mkdir ~/.kaggle\n",
        "! cp /content/drive/MyDrive/ML/kaggle.json ~/.kaggle/kaggle.json\n",
        "! chmod 600 ~/.kaggle/kaggle.json\n",
        "! kaggle datasets download yelp-dataset/yelp-dataset"
      ],
      "metadata": {
        "id": "jVnnIlUPKSVp"
      },
      "execution_count": null,
      "outputs": []
    },
    {
      "cell_type": "code",
      "execution_count": null,
      "metadata": {
        "id": "OcE3hr0gKNif"
      },
      "outputs": [],
      "source": [
        "import numpy as np\n",
        "import pandas as pd\n",
        "import os\n",
        "import json\n",
        "from collections import Counter\n",
        "from ast import literal_eval"
      ]
    },
    {
      "cell_type": "code",
      "execution_count": null,
      "metadata": {
        "id": "EauugbTlKNih"
      },
      "outputs": [],
      "source": [
        "business_df = pd.read_json('data/yelp_reviews/yelp_academic_dataset_business.json', lines=True)"
      ]
    },
    {
      "cell_type": "code",
      "execution_count": null,
      "metadata": {
        "id": "dEORRpG3KNii"
      },
      "outputs": [],
      "source": [
        "review_df = pd.read_json('data/yelp_reviews/yelp_academic_dataset_review.json', lines=True)"
      ]
    },
    {
      "cell_type": "code",
      "execution_count": null,
      "metadata": {
        "id": "9of8aU0zKNii"
      },
      "outputs": [],
      "source": [
        "food_data = business_df[business_df.categories.str.lower().str.contains('food|restaurants') == True]"
      ]
    },
    {
      "cell_type": "code",
      "execution_count": null,
      "metadata": {
        "id": "W004Eho0KNij",
        "outputId": "98463efa-5002-478d-a84b-c3e2ec24bb58"
      },
      "outputs": [
        {
          "data": {
            "text/plain": [
              "[('RestaurantsTakeOut', 57816),\n",
              " ('BusinessParking', 56465),\n",
              " ('BusinessAcceptsCreditCards', 56166),\n",
              " ('RestaurantsPriceRange2', 54604),\n",
              " ('RestaurantsDelivery', 53775),\n",
              " ('OutdoorSeating', 46134),\n",
              " ('BikeParking', 44291),\n",
              " ('RestaurantsReservations', 43577),\n",
              " ('HasTV', 42426),\n",
              " ('GoodForKids', 42028),\n",
              " ('Ambience', 41940),\n",
              " ('WiFi', 41840),\n",
              " ('RestaurantsGoodForGroups', 41828),\n",
              " ('Alcohol', 40829),\n",
              " ('Caters', 39854),\n",
              " ('RestaurantsAttire', 39058),\n",
              " ('NoiseLevel', 35872),\n",
              " ('GoodForMeal', 29074),\n",
              " ('RestaurantsTableService', 19858),\n",
              " ('WheelchairAccessible', 16605),\n",
              " ('HappyHour', 13717),\n",
              " ('DogsAllowed', 13270),\n",
              " ('BusinessAcceptsBitcoin', 7916),\n",
              " ('DriveThru', 7675),\n",
              " ('Music', 5828),\n",
              " ('ByAppointmentOnly', 4938),\n",
              " ('BestNights', 4672),\n",
              " ('CoatCheck', 4590),\n",
              " ('BYOB', 4298),\n",
              " ('GoodForDancing', 3772),\n",
              " ('Smoking', 3654),\n",
              " ('Corkage', 3474),\n",
              " ('BYOBCorkage', 1442),\n",
              " ('AgesAllowed', 88),\n",
              " ('AcceptsInsurance', 77),\n",
              " ('DietaryRestrictions', 31),\n",
              " ('Open24Hours', 24),\n",
              " ('RestaurantsCounterService', 19),\n",
              " ('HairSpecializesIn', 2)]"
            ]
          },
          "execution_count": 85,
          "metadata": {},
          "output_type": "execute_result"
        }
      ],
      "source": [
        "\n",
        "\n",
        "counter = Counter() \n",
        "\n",
        "def count(d, counter):\n",
        "    if d is not None:\n",
        "        counter.update(list(d.keys()))\n",
        "        \n",
        "food_data['attributes'].apply(lambda d : count(d, counter))\n",
        "\n",
        "counter.most_common()\n"
      ]
    },
    {
      "cell_type": "code",
      "execution_count": null,
      "metadata": {
        "id": "1x-nXU4eKNik"
      },
      "outputs": [],
      "source": [
        "\n",
        "attribute_counter = Counter() \n",
        "\n",
        "def count_options_explicit(d, counter):\n",
        "    if d is not None:\n",
        "\n",
        "        entries = list(d.keys())\n",
        "\n",
        "        temp = []\n",
        "        for entry in entries:\n",
        "            if \"{\" not in d[entry]:\n",
        "                if ('u\\'' in d[entry]): d[entry] = d[entry][1:]\n",
        "                temp.append(f'{entry}: {d[entry]}')\n",
        "            else :\n",
        "                sub_d = literal_eval(d[entry])\n",
        "                temp += [f'{str(entry)}: {str(sub_key)} : {str(sub_d[sub_key])}' for sub_key in list(sub_d.keys())]\n",
        "                \n",
        "        counter.update(temp)\n",
        "        \n",
        "food_data['attributes'].apply(lambda d : count_options_explicit(d, attribute_counter))\n",
        "\n",
        "None #Prevents cell from showing output\n"
      ]
    },
    {
      "cell_type": "code",
      "execution_count": null,
      "metadata": {
        "id": "gkGqMJIWKNil",
        "outputId": "2001c4f3-e0b5-4de0-e5c6-0ea780ebb6cc"
      },
      "outputs": [
        {
          "data": {
            "text/plain": [
              "221"
            ]
          },
          "execution_count": 87,
          "metadata": {},
          "output_type": "execute_result"
        }
      ],
      "source": [
        "#Number of relevant features\n",
        "len(attribute_counter)"
      ]
    },
    {
      "cell_type": "code",
      "execution_count": null,
      "metadata": {
        "id": "OF9U5TxkKNil",
        "outputId": "766e047b-2543-4852-9715-25581edd4b96"
      },
      "outputs": [
        {
          "data": {
            "text/plain": [
              "[('BusinessParking: valet : False', 54394),\n",
              " ('BusinessAcceptsCreditCards: True', 54384),\n",
              " ('BusinessParking: validated : False', 52910),\n",
              " ('RestaurantsTakeOut: True', 52049),\n",
              " ('BusinessParking: garage : False', 51159),\n",
              " ('Ambience: upscale : False', 38281),\n",
              " (\"RestaurantsAttire: 'casual'\", 38154),\n",
              " ('Ambience: touristy : False', 37738),\n",
              " ('Ambience: romantic : False', 37627),\n",
              " ('BusinessParking: street : False', 37387),\n",
              " ('Ambience: intimate : False', 36648),\n",
              " ('Ambience: hipster : False', 36337),\n",
              " ('RestaurantsGoodForGroups: True', 35917),\n",
              " ('GoodForKids: True', 35519),\n",
              " ('Ambience: divey : False', 35167),\n",
              " ('Ambience: trendy : False', 34041),\n",
              " ('BikeParking: True', 33088),\n",
              " ('Ambience: classy : False', 32255),\n",
              " ('HasTV: True', 32049),\n",
              " ('RestaurantsDelivery: True', 31615),\n",
              " ('RestaurantsReservations: False', 28812),\n",
              " ('BusinessParking: lot : True', 28788),\n",
              " ('RestaurantsPriceRange2: 2', 28534),\n",
              " (\"NoiseLevel: 'average'\", 25212),\n",
              " ('BusinessParking: lot : False', 24558),\n",
              " ('GoodForMeal: latenight : False', 23696),\n",
              " ('RestaurantsPriceRange2: 1', 23597),\n",
              " ('GoodForMeal: breakfast : False', 23280),\n",
              " (\"WiFi: 'free'\", 23262),\n",
              " ('OutdoorSeating: False', 22879),\n",
              " ('GoodForMeal: dessert : False', 22401),\n",
              " ('Caters: True', 22333),\n",
              " ('GoodForMeal: brunch : False', 22297),\n",
              " ('OutdoorSeating: True', 21422),\n",
              " (\"Alcohol: 'none'\", 20686),\n",
              " ('Ambience: casual : True', 20193),\n",
              " ('Ambience: casual : False', 19253),\n",
              " ('RestaurantsDelivery: False', 19230),\n",
              " (\"WiFi: 'no'\", 18261),\n",
              " ('Caters: False', 17461),\n",
              " ('WheelchairAccessible: True', 15277),\n",
              " ('BusinessParking: street : True', 14982),\n",
              " ('RestaurantsReservations: True', 14509),\n",
              " ('GoodForMeal: dinner : False', 14324),\n",
              " ('GoodForMeal: lunch : True', 14213),\n",
              " (\"Alcohol: 'full_bar'\", 14072),\n",
              " ('GoodForMeal: dinner : True', 13095),\n",
              " ('RestaurantsTableService: True', 12670),\n",
              " ('GoodForMeal: lunch : False', 12163),\n",
              " ('BikeParking: False', 11156),\n",
              " ('HasTV: False', 10359),\n",
              " ('DogsAllowed: False', 9735),\n",
              " ('HappyHour: True', 8815),\n",
              " ('BusinessAcceptsBitcoin: False', 7773),\n",
              " (\"NoiseLevel: 'quiet'\", 7362),\n",
              " ('RestaurantsTableService: False', 7173),\n",
              " ('GoodForKids: False', 6485),\n",
              " (\"Alcohol: 'beer_and_wine'\", 6036),\n",
              " ('RestaurantsGoodForGroups: False', 5890),\n",
              " ('Ambience: classy : True', 5765),\n",
              " ('Music: video : False', 5440),\n",
              " ('Music: no_music : False', 5289),\n",
              " ('Music: background_music : False', 5274),\n",
              " ('Music: dj : False', 4994),\n",
              " ('Ambience: trendy : None', 4983),\n",
              " ('HappyHour: False', 4900),\n",
              " ('ByAppointmentOnly: False', 4731),\n",
              " ('GoodForMeal: dessert : None', 4593),\n",
              " ('RestaurantsTakeOut: False', 4369),\n",
              " ('Music: jukebox : False', 4365),\n",
              " ('DriveThru: True', 4358),\n",
              " ('Music: karaoke : False', 4345),\n",
              " ('CoatCheck: False', 4238),\n",
              " ('BestNights: monday : False', 4127),\n",
              " ('Ambience: hipster : None', 4024),\n",
              " ('BestNights: sunday : False', 4007),\n",
              " ('BestNights: tuesday : False', 4002),\n",
              " ('Ambience: divey : None', 3964),\n",
              " ('Ambience: intimate : None', 3962),\n",
              " ('BestNights: wednesday : False', 3920),\n",
              " ('Music: live : False', 3823),\n",
              " ('GoodForMeal: latenight : None', 3744),\n",
              " ('GoodForMeal: brunch : None', 3598),\n",
              " ('DogsAllowed: True', 3520),\n",
              " ('BestNights: thursday : False', 3468),\n",
              " ('Ambience: classy : None', 3382),\n",
              " ('Ambience: touristy : None', 3380),\n",
              " ('BYOB: False', 3292),\n",
              " ('GoodForDancing: False', 3251),\n",
              " ('BusinessParking: street : None', 3156),\n",
              " ('Ambience: romantic : None', 3102),\n",
              " ('GoodForMeal: breakfast : True', 3032),\n",
              " ('RestaurantsDelivery: None', 2930),\n",
              " ('GoodForMeal: brunch : True', 2876),\n",
              " ('Ambience: upscale : None', 2602),\n",
              " ('DriveThru: False', 2562),\n",
              " ('BusinessParking: garage : True', 2560),\n",
              " ('BestNights: friday : True', 2464),\n",
              " ('GoodForMeal: breakfast : None', 2459),\n",
              " ('BestNights: saturday : True', 2431),\n",
              " (\"NoiseLevel: 'loud'\", 2411),\n",
              " ('GoodForMeal: lunch : None', 2395),\n",
              " ('Corkage: False', 2392),\n",
              " ('Ambience: trendy : True', 2378),\n",
              " ('BestNights: saturday : False', 2232),\n",
              " ('BestNights: friday : False', 2199),\n",
              " ('RestaurantsPriceRange2: 3', 2181),\n",
              " ('BusinessParking: lot : None', 2179),\n",
              " ('BusinessParking: validated : None', 2055),\n",
              " (\"Smoking: 'no'\", 2022),\n",
              " ('Ambience: casual : None', 1956),\n",
              " ('OutdoorSeating: None', 1833),\n",
              " ('BusinessParking: garage : None', 1809),\n",
              " ('GoodForMeal: dessert : True', 1777),\n",
              " ('BusinessAcceptsCreditCards: False', 1754),\n",
              " (\"Smoking: 'outdoor'\", 1453),\n",
              " ('RestaurantsTakeOut: None', 1398),\n",
              " ('Music: live : True', 1392),\n",
              " ('GoodForMeal: dinner : None', 1352),\n",
              " ('GoodForMeal: latenight : True', 1331),\n",
              " ('WheelchairAccessible: False', 1319),\n",
              " ('BestNights: thursday : True', 1195),\n",
              " ('BusinessParking: valet : True', 1132),\n",
              " ('Ambience: divey : True', 1115),\n",
              " ('Corkage: True', 1071),\n",
              " ('Music: karaoke : None', 1056),\n",
              " ('BYOB: True', 995),\n",
              " ('Ambience: hipster : True', 986),\n",
              " ('BusinessParking: None', 932),\n",
              " (\"NoiseLevel: 'very_loud'\", 850),\n",
              " ('Music: jukebox : None', 808),\n",
              " (\"RestaurantsAttire: 'dressy'\", 796),\n",
              " ('Ambience: intimate : True', 792),\n",
              " ('DriveThru: None', 755),\n",
              " (\"BYOBCorkage: 'no'\", 747),\n",
              " ('BestNights: wednesday : True', 743),\n",
              " ('Ambience: romantic : True', 673),\n",
              " ('BestNights: tuesday : True', 661),\n",
              " ('BestNights: sunday : True', 656),\n",
              " (\"BYOBCorkage: 'yes_free'\", 589),\n",
              " ('Music: dj : None', 566),\n",
              " ('BusinessParking: validated : True', 560),\n",
              " ('BestNights: monday : True', 536),\n",
              " ('Ambience: None', 530),\n",
              " ('GoodForDancing: True', 521),\n",
              " ('Ambience: upscale : True', 414),\n",
              " ('CoatCheck: True', 350),\n",
              " ('GoodForMeal: None', 303),\n",
              " ('Music: jukebox : True', 289),\n",
              " ('Ambience: touristy : True', 284),\n",
              " (\"WiFi: 'paid'\", 280),\n",
              " ('RestaurantsPriceRange2: 4', 275),\n",
              " ('Music: live : None', 259),\n",
              " ('RestaurantsReservations: None', 256),\n",
              " ('ByAppointmentOnly: True', 206),\n",
              " ('Music: background_music : True', 177),\n",
              " (\"Smoking: 'yes'\", 175),\n",
              " ('Music: dj : True', 153),\n",
              " ('BusinessAcceptsBitcoin: True', 141),\n",
              " (\"BYOBCorkage: 'yes_corkage'\", 101),\n",
              " (\"AgesAllowed: 'allages'\", 76),\n",
              " (\"RestaurantsAttire: 'formal'\", 70),\n",
              " ('Caters: None', 60),\n",
              " ('Music: karaoke : True', 51),\n",
              " ('AcceptsInsurance: False', 50)]"
            ]
          },
          "execution_count": 88,
          "metadata": {},
          "output_type": "execute_result"
        }
      ],
      "source": [
        "#Filters for top 75% of features and stores them as a list\n",
        "attributes = attribute_counter.most_common()[:int(len(attribute_counter) * .75)]\n",
        "attributes"
      ]
    },
    {
      "cell_type": "code",
      "execution_count": null,
      "metadata": {
        "id": "kUv7gLNbKNim",
        "outputId": "e212ab38-3007-454c-f3da-145d107f843c"
      },
      "outputs": [
        {
          "data": {
            "text/html": [
              "<div>\n",
              "<style scoped>\n",
              "    .dataframe tbody tr th:only-of-type {\n",
              "        vertical-align: middle;\n",
              "    }\n",
              "\n",
              "    .dataframe tbody tr th {\n",
              "        vertical-align: top;\n",
              "    }\n",
              "\n",
              "    .dataframe thead th {\n",
              "        text-align: right;\n",
              "    }\n",
              "</style>\n",
              "<table border=\"1\" class=\"dataframe\">\n",
              "  <thead>\n",
              "    <tr style=\"text-align: right;\">\n",
              "      <th></th>\n",
              "      <th>business_id</th>\n",
              "      <th>name</th>\n",
              "      <th>address</th>\n",
              "      <th>city</th>\n",
              "      <th>state</th>\n",
              "      <th>postal_code</th>\n",
              "      <th>latitude</th>\n",
              "      <th>longitude</th>\n",
              "      <th>stars</th>\n",
              "      <th>review_count</th>\n",
              "      <th>is_open</th>\n",
              "      <th>attributes</th>\n",
              "      <th>categories</th>\n",
              "      <th>hours</th>\n",
              "    </tr>\n",
              "  </thead>\n",
              "  <tbody>\n",
              "  </tbody>\n",
              "</table>\n",
              "</div>"
            ],
            "text/plain": [
              "Empty DataFrame\n",
              "Columns: [business_id, name, address, city, state, postal_code, latitude, longitude, stars, review_count, is_open, attributes, categories, hours]\n",
              "Index: []"
            ]
          },
          "execution_count": 89,
          "metadata": {},
          "output_type": "execute_result"
        }
      ],
      "source": [
        "review_df"
      ]
    }
  ],
  "metadata": {
    "interpreter": {
      "hash": "11b9e945b2187ff22024973cdf4437fa997e52c054f8771dce7781205d739756"
    },
    "kernelspec": {
      "display_name": "Python 3.9.7 ('restaurant_recs')",
      "language": "python",
      "name": "python3"
    },
    "language_info": {
      "codemirror_mode": {
        "name": "ipython",
        "version": 3
      },
      "file_extension": ".py",
      "mimetype": "text/x-python",
      "name": "python",
      "nbconvert_exporter": "python",
      "pygments_lexer": "ipython3",
      "version": "3.9.7"
    },
    "orig_nbformat": 4,
    "colab": {
      "name": "Data.ipynb",
      "provenance": []
    }
  },
  "nbformat": 4,
  "nbformat_minor": 0
}